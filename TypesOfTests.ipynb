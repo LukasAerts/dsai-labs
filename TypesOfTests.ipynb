{
 "cells": [
  {
   "attachments": {},
   "cell_type": "markdown",
   "metadata": {},
   "source": [
    "# TYPES OF TESTS"
   ]
  },
  {
   "attachments": {},
   "cell_type": "markdown",
   "metadata": {},
   "source": [
    "## HOOFDSTUK 1"
   ]
  },
  {
   "attachments": {},
   "cell_type": "markdown",
   "metadata": {},
   "source": [
    "### Sample Testing\n",
    "\n",
    "Een test die doormiddel van het nemen van een sample de representatie weergeeft van de volledige populatie"
   ]
  },
  {
   "attachments": {},
   "cell_type": "markdown",
   "metadata": {},
   "source": [
    "# HOOFDSTUK 2\n"
   ]
  },
  {
   "attachments": {},
   "cell_type": "markdown",
   "metadata": {},
   "source": [
    "## Measure of Central Tendency\n",
    "\n",
    "Welke waarde representateert de volledige groep?\n",
    "\n",
    "### Arithmetic mean (Gemiddelde)\n",
    "\n",
    "De som van alle values gedeeld door het aantal values\n",
    "\n",
    "### Median\n",
    "\n",
    "Het midden van alle values na het sorteren (bij even getallen, midden van de twee middelste)\n",
    "\n",
    "### Mode\n",
    "\n",
    "De value die het meest voorkomt in de dataset\n",
    "\n"
   ]
  },
  {
   "attachments": {},
   "cell_type": "markdown",
   "metadata": {},
   "source": [
    "## Measures of Dispersion\n",
    "\n",
    "### Range\n",
    "\n",
    "De absolute waarde van het verschil tussen de hoogste en laagste value\n",
    "\n",
    "### Quartiles\n",
    "\n",
    "De drie waardes die een gesorteerde dataset verdelen in 4 gelijke subsets (Q1,Q2,Q3)\n",
    "\n",
    "### Interquartile Range\n",
    "\n",
    "Het verschil tussen de derde en eerste quartile | Q3 - Q1 |"
   ]
  },
  {
   "attachments": {},
   "cell_type": "markdown",
   "metadata": {},
   "source": []
  },
  {
   "cell_type": "markdown",
   "metadata": {},
   "source": []
  },
  {
   "cell_type": "markdown",
   "metadata": {},
   "source": []
  },
  {
   "cell_type": "markdown",
   "metadata": {},
   "source": []
  }
 ],
 "metadata": {
  "language_info": {
   "name": "python"
  },
  "orig_nbformat": 4
 },
 "nbformat": 4,
 "nbformat_minor": 2
}
